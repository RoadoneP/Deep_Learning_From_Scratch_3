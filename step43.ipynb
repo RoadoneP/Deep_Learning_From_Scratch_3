{
 "cells": [
  {
   "cell_type": "code",
   "execution_count": 1,
   "id": "f2a640ec",
   "metadata": {},
   "outputs": [],
   "source": [
    "import numpy as np\n",
    "from dezero import Variable\n",
    "import dezero.functions as F\n",
    "import matplotlib.pyplot as plt"
   ]
  },
  {
   "cell_type": "code",
   "execution_count": 16,
   "id": "01796684",
   "metadata": {},
   "outputs": [
    {
     "data": {
      "text/plain": [
       "<matplotlib.collections.PathCollection at 0x11cd481f250>"
      ]
     },
     "execution_count": 16,
     "metadata": {},
     "output_type": "execute_result"
    },
    {
     "data": {
      "image/png": "[encoded data removed]",
      "text/plain": [
       "<Figure size 432x288 with 1 Axes>"
      ]
     },
     "metadata": {
      "needs_background": "light"
     },
     "output_type": "display_data"
    }
   ],
   "source": [
    "np.random.seed(0)\n",
    "x = np.random.rand(1000, 1) * 20 - 10 \n",
    "# y = np.sin(2 * np.pi * x) + np.random.rand(500, 1)\n",
    "y = 0.5 * x**3 - 0.5 * x**2 - 90 * np.sin(x**2) + 1\n",
    "plt.scatter(x, y)"
   ]
  },
  {
   "cell_type": "code",
   "execution_count": 17,
   "id": "cc2079a1",
   "metadata": {},
   "outputs": [],
   "source": [
    "# 가중치 초기화\n",
    "I, H, O = 1, 10, 1\n",
    "W1 = Variable(0.01 * np.random.randn(I, H))\n",
    "b1 = Variable(np.zeros(H))\n",
    "W2 = Variable(0.01 * np.random.randn(H, O))\n",
    "b2 = Variable(np.zeros(O))"
   ]
  },
  {
   "cell_type": "code",
   "execution_count": 18,
   "id": "26a045a0",
   "metadata": {},
   "outputs": [],
   "source": [
    "# 추론 함수\n",
    "def predict(x):\n",
    "    y = F.linear(x, W1, b1)\n",
    "    y = F.sigmoid(y)\n",
    "    y = F.linear(y, W2, b2)\n",
    "    return y"
   ]
  },
  {
   "cell_type": "code",
   "execution_count": 19,
   "id": "ed297fd4",
   "metadata": {},
   "outputs": [],
   "source": [
    "lr = 0.2\n",
    "iters = 20000"
   ]
  },
  {
   "cell_type": "code",
   "execution_count": null,
   "id": "53939657",
   "metadata": {},
   "outputs": [
    {
     "name": "stdout",
     "output_type": "stream",
     "text": [
      "variable(40848.32963833196)\n",
      "variable(21434.1292879383)\n",
      "variable(21272.95690443998)\n",
      "variable(21271.209118661165)\n",
      "variable(21271.02395006713)\n",
      "variable(21271.91856399267)\n",
      "variable(21270.627188456456)\n",
      "variable(21269.22615979284)\n",
      "variable(21263.185512857355)\n",
      "variable(23666.535018518574)\n",
      "variable(23666.495590750837)\n",
      "variable(23666.46368426892)\n",
      "variable(23666.43730883633)\n",
      "variable(23666.415126198845)\n",
      "variable(23666.396199394556)\n",
      "variable(23666.379852527312)\n"
     ]
    }
   ],
   "source": [
    "# 학습\n",
    "for i in range(iters):\n",
    "    y_pred = predict(x)\n",
    "    loss = F.mean_squared_error(y, y_pred)\n",
    "    \n",
    "    W1.cleargrad()\n",
    "    b1.cleargrad()\n",
    "    W2.cleargrad()\n",
    "    b2.cleargrad()\n",
    "    loss.backward()\n",
    "    \n",
    "    W1.data -= lr * W1.grad.data\n",
    "    b1.data -= lr * b1.grad.data\n",
    "    W2.data -= lr * W2.grad.data\n",
    "    b2.data -= lr * b2.grad.data\n",
    "    if i % 1000 == 0: # 1000회마다 출력\n",
    "        print(loss)"
   ]
  },
  {
   "cell_type": "code",
   "execution_count": null,
   "id": "89b2e57d",
   "metadata": {},
   "outputs": [],
   "source": [
    "# Plot\n",
    "plt.scatter(x, y, s=10)\n",
    "plt.xlabel('x')\n",
    "plt.ylabel('y')\n",
    "t = np.arange(0, 1, .01)[:, np.newaxis]\n",
    "y_pred = predict(t)\n",
    "plt.plot(t, y_pred.data, color='r')\n",
    "plt.show()"
   ]
  }
 ],
 "metadata": {
  "kernelspec": {
   "display_name": "Python 3 (ipykernel)",
   "language": "python",
   "name": "python3"
  },
  "language_info": {
   "codemirror_mode": {
    "name": "ipython",
    "version": 3
   },
   "file_extension": ".py",
   "mimetype": "text/x-python",
   "name": "python",
   "nbconvert_exporter": "python",
   "pygments_lexer": "ipython3",
   "version": "3.8.11"
  }
 },
 "nbformat": 4,
 "nbformat_minor": 5
}
