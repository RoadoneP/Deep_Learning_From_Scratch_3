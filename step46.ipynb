{
 "cells": [
  {
   "cell_type": "code",
   "execution_count": 1,
   "id": "c13cc82d",
   "metadata": {},
   "outputs": [],
   "source": [
    "import numpy as np\n",
    "from dezero import Variable\n",
    "from dezero import optimizers\n",
    "import dezero.functions as F\n",
    "from dezero.models import MLP"
   ]
  },
  {
   "cell_type": "code",
   "execution_count": 2,
   "id": "6fe12b8b",
   "metadata": {},
   "outputs": [],
   "source": [
    "np.random.seed(0)\n",
    "x = np.random.rand(100, 1)\n",
    "y = np.sin(2 * np.pi * x) + np.random.rand(100, 1)"
   ]
  },
  {
   "cell_type": "code",
   "execution_count": 3,
   "id": "2d20297a",
   "metadata": {},
   "outputs": [],
   "source": [
    "lr = 0.2\n",
    "max_iter = 10000\n",
    "hidden_size = 10"
   ]
  },
  {
   "cell_type": "code",
   "execution_count": 4,
   "id": "bb0f4e3f",
   "metadata": {},
   "outputs": [
    {
     "data": {
      "text/plain": [
       "<dezero.optimizers.SGD at 0x249b4b7e4c0>"
      ]
     },
     "execution_count": 4,
     "metadata": {},
     "output_type": "execute_result"
    }
   ],
   "source": [
    "model = MLP((hidden_size, 1))\n",
    "optimizer = optimizers.SGD(lr)\n",
    "optimizer.setup(model)"
   ]
  },
  {
   "cell_type": "code",
   "execution_count": 5,
   "id": "de603100",
   "metadata": {},
   "outputs": [
    {
     "name": "stdout",
     "output_type": "stream",
     "text": [
      "variable(0.8165178492839196)\n",
      "variable(0.24990280802148895)\n",
      "variable(0.24609876581126014)\n",
      "variable(0.2372159081431807)\n",
      "variable(0.20793216413350174)\n",
      "variable(0.12311905720649353)\n",
      "variable(0.0788816650635515)\n",
      "variable(0.07655073683421636)\n",
      "variable(0.0763780308623822)\n",
      "variable(0.07618764131185572)\n"
     ]
    }
   ],
   "source": [
    "for i in range(max_iter):\n",
    "    y_pred = model(x)\n",
    "    loss = F.mean_squared_error(y, y_pred)\n",
    "    \n",
    "    model.cleargrads()\n",
    "    loss.backward()\n",
    "    \n",
    "    optimizer.update()\n",
    "    if i % 1000 == 0:\n",
    "        print(loss)"
   ]
  },
  {
   "cell_type": "code",
   "execution_count": 6,
   "id": "e94a3799",
   "metadata": {},
   "outputs": [
    {
     "data": {
      "text/plain": [
       "<dezero.optimizers.MomentumSGD at 0x249b4b7e610>"
      ]
     },
     "execution_count": 6,
     "metadata": {},
     "output_type": "execute_result"
    }
   ],
   "source": [
    "model2 = MLP((hidden_size, 1))\n",
    "optimizer = optimizers.MomentumSGD(lr)\n",
    "optimizer.setup(model2)"
   ]
  },
  {
   "cell_type": "code",
   "execution_count": 7,
   "id": "31044cd3",
   "metadata": {},
   "outputs": [
    {
     "name": "stdout",
     "output_type": "stream",
     "text": [
      "variable(1.1827762997377618)\n",
      "variable(0.07664710479248199)\n",
      "variable(0.07526571433350121)\n",
      "variable(0.07468180587457537)\n",
      "variable(0.07435630976515402)\n",
      "variable(0.07415556488011528)\n",
      "variable(0.07402263689614343)\n",
      "variable(0.07393003251176544)\n",
      "variable(0.07386310424035657)\n",
      "variable(0.07381341393447335)\n"
     ]
    }
   ],
   "source": [
    "for i in range(max_iter):\n",
    "    y_pred = model2(x)\n",
    "    loss = F.mean_squared_error(y, y_pred)\n",
    "    \n",
    "    model2.cleargrads()\n",
    "    loss.backward()\n",
    "    \n",
    "    optimizer.update()\n",
    "    if i % 1000 == 0:\n",
    "        print(loss)"
   ]
  }
 ],
 "metadata": {
  "kernelspec": {
   "display_name": "main",
   "language": "python",
   "name": "main"
  },
  "language_info": {
   "codemirror_mode": {
    "name": "ipython",
    "version": 3
   },
   "file_extension": ".py",
   "mimetype": "text/x-python",
   "name": "python",
   "nbconvert_exporter": "python",
   "pygments_lexer": "ipython3",
   "version": "3.8.11"
  }
 },
 "nbformat": 4,
 "nbformat_minor": 5
}
