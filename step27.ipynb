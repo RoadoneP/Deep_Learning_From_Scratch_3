{
 "cells": [
  {
   "cell_type": "code",
   "execution_count": 1,
   "id": "4f6f4b56",
   "metadata": {},
   "outputs": [],
   "source": [
    "if '__file__' in globals():\n",
    "    import os, sys\n",
    "    sys.path.append(os.path.join(os.path.dirname(__file__), '..'))\n",
    "import numpy as np\n",
    "import math\n",
    "from dezero import Variable, Function\n",
    "from dezero.utils import plot_dot_graph"
   ]
  },
  {
   "cell_type": "code",
   "execution_count": 2,
   "id": "7b8cdafa",
   "metadata": {},
   "outputs": [],
   "source": [
    "class Sin(Function):\n",
    "    def forward(self, x):\n",
    "        y = np.sin(x)\n",
    "        return y\n",
    "    \n",
    "    def backward(self, gy):\n",
    "        x = self.inputs[0].data\n",
    "        gx = gy * np.cos(x)\n",
    "        return gx\n",
    "    \n",
    "def sin(x):\n",
    "    return Sin()(x)"
   ]
  },
  {
   "cell_type": "code",
   "execution_count": 4,
   "id": "287b8a32",
   "metadata": {},
   "outputs": [
    {
     "name": "stdout",
     "output_type": "stream",
     "text": [
      "0.7071067811865476\n",
      "0.7071067811865476\n"
     ]
    }
   ],
   "source": [
    "x = Variable(np.array(np.pi/4))\n",
    "y = sin(x)\n",
    "y.backward()\n",
    "\n",
    "# sin\n",
    "print(y.data)\n",
    "print(x.grad)"
   ]
  },
  {
   "cell_type": "code",
   "execution_count": 5,
   "id": "8f3654d7",
   "metadata": {},
   "outputs": [],
   "source": [
    "def my_sin(x, threshold=0.0001):\n",
    "    y = 0\n",
    "    for i in range(100000):\n",
    "        c = (-1) ** i / math.factorial(2 * i + 1)\n",
    "        t = c * x ** (2 * i + 1)\n",
    "        y = y + t\n",
    "        if abs(t.data) < threshold:\n",
    "            break\n",
    "    return y"
   ]
  },
  {
   "cell_type": "code",
   "execution_count": 6,
   "id": "c0ee7a29",
   "metadata": {},
   "outputs": [
    {
     "name": "stdout",
     "output_type": "stream",
     "text": [
      "--- approximate sin ---\n",
      "0.7071064695751781\n",
      "0.7071032148228457\n"
     ]
    }
   ],
   "source": [
    "x = Variable(np.array(np.pi / 4))\n",
    "y = my_sin(x)  # , threshold=1e-150)\n",
    "y.backward()\n",
    "print('--- approximate sin ---')\n",
    "print(y.data)\n",
    "print(x.grad)"
   ]
  },
  {
   "cell_type": "code",
   "execution_count": null,
   "id": "6af396fa",
   "metadata": {},
   "outputs": [],
   "source": []
  }
 ],
 "metadata": {
  "kernelspec": {
   "display_name": "main",
   "language": "python",
   "name": "main"
  },
  "language_info": {
   "codemirror_mode": {
    "name": "ipython",
    "version": 3
   },
   "file_extension": ".py",
   "mimetype": "text/x-python",
   "name": "python",
   "nbconvert_exporter": "python",
   "pygments_lexer": "ipython3",
   "version": "3.8.11"
  }
 },
 "nbformat": 4,
 "nbformat_minor": 5
}
