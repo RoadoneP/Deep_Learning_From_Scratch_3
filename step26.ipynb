{
 "cells": [
  {
   "cell_type": "code",
   "execution_count": 5,
   "id": "f621d7b9",
   "metadata": {},
   "outputs": [],
   "source": [
    "import numpy as np\n",
    "from dezero import Variable\n",
    "\n",
    "def _dot_var(v, verbose = False):\n",
    "    dot_var = '{} [label=\"{}\", color=orange, style=filled]\\n'\n",
    "    \n",
    "    name = '' if v.name is None else v.name\n",
    "    if verbose and v.data is not None:\n",
    "        if v.name is not None:\n",
    "            name +=': '\n",
    "        name += str(v.shape) + ' ' + str(v.dtype)\n",
    "    return dot_var.format(id(v), name)"
   ]
  },
  {
   "cell_type": "code",
   "execution_count": 6,
   "id": "9fa813bf",
   "metadata": {},
   "outputs": [
    {
     "name": "stdout",
     "output_type": "stream",
     "text": [
      "2142175016560 [label=\"x\", color=orange, style=filled]\n",
      "\n",
      "2142175016560 [label=\"x: (2, 3) float64\", color=orange, style=filled]\n",
      "\n"
     ]
    }
   ],
   "source": [
    "x = Variable(np.random.randn(2, 3))\n",
    "x.name = 'x'\n",
    "print(_dot_var(x))\n",
    "print(_dot_var(x, verbose=True))"
   ]
  },
  {
   "cell_type": "code",
   "execution_count": 7,
   "id": "c89aa5ac",
   "metadata": {},
   "outputs": [],
   "source": [
    "def _dot_func(f):\n",
    "    dot_func = '{} [label=\"{}\", color=lightblue, style=filled, shape=box]\\n'\n",
    "    txt = dot_func.format(id(f), f.__class__.__name__)\n",
    "    \n",
    "    dot_edge = '{} -> {}\\n'\n",
    "    for x in f.inputs:\n",
    "        txt += dot_edge.format(id(x), id(f))\n",
    "    for y in f.outputs:\n",
    "        txt += dot_edge.format(id(f), id(y())) # y는 약한 참조(weakref, 17.4절 참고)\n",
    "    return txt"
   ]
  },
  {
   "cell_type": "code",
   "execution_count": 8,
   "id": "ce3031b5",
   "metadata": {},
   "outputs": [
    {
     "name": "stdout",
     "output_type": "stream",
     "text": [
      "2142176008896 [label=\"Add\", color=lightblue, style=filled, shape=box]\n",
      "2142176007504 -> 2142176008896\n",
      "2142176009472 -> 2142176008896\n",
      "2142176008896 -> 2142176006208\n",
      "\n"
     ]
    }
   ],
   "source": [
    "x0 = Variable(np.array(1.0))\n",
    "x1 = Variable(np.array(1.0))\n",
    "y = x0 + x1\n",
    "txt = _dot_func(y.creator)\n",
    "print(txt)"
   ]
  },
  {
   "cell_type": "code",
   "execution_count": null,
   "id": "4e68a026",
   "metadata": {},
   "outputs": [],
   "source": [
    "def get_dot_graph(output, verbose=True):\n",
    "    txt=''\n",
    "    funcs = []\n",
    "    seen_set = set()\n",
    "    \n",
    "    def add_func(f):\n",
    "        if f not in seen_set:\n",
    "            funcs.append(f)\n",
    "            "
   ]
  }
 ],
 "metadata": {
  "kernelspec": {
   "display_name": "Python 3",
   "language": "python",
   "name": "python3"
  },
  "language_info": {
   "codemirror_mode": {
    "name": "ipython",
    "version": 3
   },
   "file_extension": ".py",
   "mimetype": "text/x-python",
   "name": "python",
   "nbconvert_exporter": "python",
   "pygments_lexer": "ipython3",
   "version": "3.8.8"
  }
 },
 "nbformat": 4,
 "nbformat_minor": 5
}
