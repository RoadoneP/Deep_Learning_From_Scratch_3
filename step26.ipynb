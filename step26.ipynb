{
 "cells": [
  {
   "cell_type": "code",
   "execution_count": 1,
   "id": "f621d7b9",
   "metadata": {},
   "outputs": [],
   "source": [
    "import numpy as np\n",
    "from dezero import Variable\n",
    "\n",
    "def _dot_var(v, verbose = False):\n",
    "    dot_var = '{} [label=\"{}\", color=orange, style=filled]\\n'\n",
    "    \n",
    "    name = '' if v.name is None else v.name\n",
    "    if verbose and v.data is not None:\n",
    "        if v.name is not None:\n",
    "            name +=': '\n",
    "        name += str(v.shape) + ' ' + str(v.dtype)\n",
    "    return dot_var.format(id(v), name)"
   ]
  },
  {
   "cell_type": "code",
   "execution_count": 2,
   "id": "9fa813bf",
   "metadata": {},
   "outputs": [
    {
     "name": "stdout",
     "output_type": "stream",
     "text": [
      "1677171530864 [label=\"x\", color=orange, style=filled]\n",
      "\n",
      "1677171530864 [label=\"x: (2, 3) float64\", color=orange, style=filled]\n",
      "\n"
     ]
    }
   ],
   "source": [
    "x = Variable(np.random.randn(2, 3))\n",
    "x.name = 'x'\n",
    "print(_dot_var(x))\n",
    "print(_dot_var(x, verbose=True))"
   ]
  },
  {
   "cell_type": "code",
   "execution_count": 3,
   "id": "c89aa5ac",
   "metadata": {},
   "outputs": [],
   "source": [
    "def _dot_func(f):\n",
    "    dot_func = '{} [label=\"{}\", color=lightblue, style=filled, shape=box]\\n'\n",
    "    txt = dot_func.format(id(f), f.__class__.__name__)\n",
    "    \n",
    "    dot_edge = '{} -> {}\\n'\n",
    "    for x in f.inputs:\n",
    "        txt += dot_edge.format(id(x), id(f))\n",
    "    for y in f.outputs:\n",
    "        txt += dot_edge.format(id(f), id(y())) # y는 약한 참조(weakref, 17.4절 참고)\n",
    "    return txt"
   ]
  },
  {
   "cell_type": "code",
   "execution_count": 8,
   "id": "ce3031b5",
   "metadata": {},
   "outputs": [
    {
     "name": "stdout",
     "output_type": "stream",
     "text": [
      "1677166336992 [label=\"Add\", color=lightblue, style=filled, shape=box]\n",
      "1677166336128 -> 1677166336992\n",
      "1677166334208 -> 1677166336992\n",
      "1677166336992 -> 1677166337856\n",
      "\n"
     ]
    }
   ],
   "source": [
    "x0 = Variable(np.array(1.0))\n",
    "x1 = Variable(np.array(1.0))\n",
    "y = x0 + x1\n",
    "txt = _dot_func(y.creator)\n",
    "print(txt)"
   ]
  },
  {
   "cell_type": "code",
   "execution_count": 23,
   "id": "4e68a026",
   "metadata": {},
   "outputs": [],
   "source": [
    "def get_dot_graph(output, verbose=True):\n",
    "    txt=''\n",
    "    funcs = []\n",
    "    seen_set = set()\n",
    "    \n",
    "    def add_func(f):\n",
    "        if f not in seen_set:\n",
    "            funcs.append(f)\n",
    "            # funcs.sort(key=lambda x: x.generation)\n",
    "            seen_set.add(f)\n",
    "            \n",
    "    add_func(output.creator)\n",
    "    txt += _dot_var(output, verbose)\n",
    "    while funcs:\n",
    "        func = funcs.pop()\n",
    "        txt += _dot_func(func)\n",
    "        for x in func.inputs:\n",
    "            txt += _dot_var(x, verbose)\n",
    "            \n",
    "            if x.creator is not None:\n",
    "                add_func(x.creator)\n",
    "                \n",
    "    return 'digraph g {\\n' + txt + '}'"
   ]
  },
  {
   "cell_type": "code",
   "execution_count": 28,
   "id": "56db8631",
   "metadata": {},
   "outputs": [],
   "source": [
    "import os\n",
    "import subprocess\n",
    "\n",
    "def plot_dot_graph(output, verbose=True, to_file='graph.png'):\n",
    "    dot_graph = get_dot_graph(output, verbose)\n",
    "\n",
    "    tmp_dir = os.path.join(os.path.expanduser('~'), '.dezero')\n",
    "    if not os.path.exists(tmp_dir):\n",
    "        os.mkdir(tmp_dir)\n",
    "    graph_path = os.path.join(tmp_dir, 'tmp_graph.dot')\n",
    "\n",
    "    with open(graph_path, 'w') as f:\n",
    "        f.write(dot_graph)\n",
    "\n",
    "    extension = os.path.splitext(to_file)[1][1:]  # Extension(e.g. png, pdf)\n",
    "    cmd = 'dot {} -T {} -o {}'.format(graph_path, extension, to_file)\n",
    "    print(cmd)\n",
    "    subprocess.run(cmd, shell=True)\n",
    "    \n",
    "    try:\n",
    "        from IPython import display\n",
    "        return display.Image(filename=to_file)\n",
    "    except:\n",
    "        pass"
   ]
  },
  {
   "cell_type": "code",
   "execution_count": 33,
   "id": "9a8fbfe7",
   "metadata": {},
   "outputs": [],
   "source": [
    "if '__file__' in globals():\n",
    "    import os, sys\n",
    "    sys.path.append(os.path.join(os.path.dirname(__file__), '..'))\n",
    "import numpy as np\n",
    "from dezero import Variable\n",
    "from dezero.utils import plot_dot_graph\n",
    "\n",
    "\n",
    "def goldstein(x, y):\n",
    "    z = (1 + (x + y + 1)**2 * (19 - 14*x + 3*x**2 - 14*y + 6*x*y + 3*y**2)) * \\\n",
    "        (30 + (2*x - 3*y)**2 * (18 - 32*x + 12*x**2 + 48*y - 36*x*y + 27*y**2))\n",
    "    return z\n",
    "\n",
    "\n",
    "x = Variable(np.array(1.0))\n",
    "y = Variable(np.array(1.0))\n",
    "z = goldstein(x, y)\n",
    "z.backward()\n",
    "\n",
    "x.name = 'x'\n",
    "y.name = 'y'\n",
    "z.name = 'z'\n",
    "plot_dot_graph(z, verbose=False, to_file='goldstein.png')"
   ]
  }
 ],
 "metadata": {
  "kernelspec": {
   "display_name": "Python 3 (ipykernel)",
   "language": "python",
   "name": "python3"
  },
  "language_info": {
   "codemirror_mode": {
    "name": "ipython",
    "version": 3
   },
   "file_extension": ".py",
   "mimetype": "text/x-python",
   "name": "python",
   "nbconvert_exporter": "python",
   "pygments_lexer": "ipython3",
   "version": "3.8.11"
  }
 },
 "nbformat": 4,
 "nbformat_minor": 5
}
